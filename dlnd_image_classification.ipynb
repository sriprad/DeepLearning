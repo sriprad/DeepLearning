{
 "cells": [
  {
   "cell_type": "markdown",
   "metadata": {
    "collapsed": true,
    "deletable": true,
    "editable": true
   },
   "source": [
    "# Image Classification\n",
    "In this project, you'll classify images from the [CIFAR-10 dataset](https://www.cs.toronto.edu/~kriz/cifar.html).  The dataset consists of airplanes, dogs, cats, and other objects. You'll preprocess the images, then train a convolutional neural network on all the samples. The images need to be normalized and the labels need to be one-hot encoded.  You'll get to apply what you learned and build a convolutional, max pooling, dropout, and fully connected layers.  At the end, you'll get to see your neural network's predictions on the sample images.\n",
    "## Get the Data\n",
    "Run the following cell to download the [CIFAR-10 dataset for python](https://www.cs.toronto.edu/~kriz/cifar-10-python.tar.gz)."
   ]
  },
  {
   "cell_type": "code",
   "execution_count": 1,
   "metadata": {
    "collapsed": false,
    "deletable": true,
    "editable": true
   },
   "outputs": [
    {
     "name": "stderr",
     "output_type": "stream",
     "text": [
      "CIFAR-10 Dataset: 171MB [00:40, 4.19MB/s]                              \n"
     ]
    },
    {
     "name": "stdout",
     "output_type": "stream",
     "text": [
      "All files found!\n"
     ]
    }
   ],
   "source": [
    "\"\"\"\n",
    "DON'T MODIFY ANYTHING IN THIS CELL THAT IS BELOW THIS LINE\n",
    "\"\"\"\n",
    "from urllib.request import urlretrieve\n",
    "from os.path import isfile, isdir\n",
    "from tqdm import tqdm\n",
    "import problem_unittests as tests\n",
    "import tarfile\n",
    "\n",
    "cifar10_dataset_folder_path = 'cifar-10-batches-py'\n",
    "\n",
    "class DLProgress(tqdm):\n",
    "    last_block = 0\n",
    "\n",
    "    def hook(self, block_num=1, block_size=1, total_size=None):\n",
    "        self.total = total_size\n",
    "        self.update((block_num - self.last_block) * block_size)\n",
    "        self.last_block = block_num\n",
    "\n",
    "if not isfile('cifar-10-python.tar.gz'):\n",
    "    with DLProgress(unit='B', unit_scale=True, miniters=1, desc='CIFAR-10 Dataset') as pbar:\n",
    "        urlretrieve(\n",
    "            'https://www.cs.toronto.edu/~kriz/cifar-10-python.tar.gz',\n",
    "            'cifar-10-python.tar.gz',\n",
    "            pbar.hook)\n",
    "\n",
    "if not isdir(cifar10_dataset_folder_path):\n",
    "    with tarfile.open('cifar-10-python.tar.gz') as tar:\n",
    "        tar.extractall()\n",
    "        tar.close()\n",
    "\n",
    "\n",
    "tests.test_folder_path(cifar10_dataset_folder_path)"
   ]
  },
  {
   "cell_type": "markdown",
   "metadata": {
    "deletable": true,
    "editable": true
   },
   "source": [
    "## Explore the Data\n",
    "The dataset is broken into batches to prevent your machine from running out of memory.  The CIFAR-10 dataset consists of 5 batches, named `data_batch_1`, `data_batch_2`, etc.. Each batch contains the labels and images that are one of the following:\n",
    "* airplane\n",
    "* automobile\n",
    "* bird\n",
    "* cat\n",
    "* deer\n",
    "* dog\n",
    "* frog\n",
    "* horse\n",
    "* ship\n",
    "* truck\n",
    "\n",
    "Understanding a dataset is part of making predictions on the data.  Play around with the code cell below by changing the `batch_id` and `sample_id`. The `batch_id` is the id for a batch (1-5). The `sample_id` is the id for a image and label pair in the batch.\n",
    "\n",
    "Ask yourself \"What are all possible labels?\", \"What is the range of values for the image data?\", \"Are the labels in order or random?\".  Answers to questions like these will help you preprocess the data and end up with better predictions."
   ]
  },
  {
   "cell_type": "code",
   "execution_count": 2,
   "metadata": {
    "collapsed": false,
    "deletable": true,
    "editable": true
   },
   "outputs": [
    {
     "name": "stdout",
     "output_type": "stream",
     "text": [
      "\n",
      "Stats of batch 1:\n",
      "Samples: 10000\n",
      "Label Counts: {0: 1005, 1: 974, 2: 1032, 3: 1016, 4: 999, 5: 937, 6: 1030, 7: 1001, 8: 1025, 9: 981}\n",
      "First 20 Labels: [6, 9, 9, 4, 1, 1, 2, 7, 8, 3, 4, 7, 7, 2, 9, 9, 9, 3, 2, 6]\n",
      "\n",
      "Example of Image 5:\n",
      "Image - Min Value: 0 Max Value: 252\n",
      "Image - Shape: (32, 32, 3)\n",
      "Label - Label Id: 1 Name: automobile\n"
     ]
    },
    {
     "data": {
      "image/png": "[encoded data removed]",
      "text/plain": [
       "<matplotlib.figure.Figure at 0x7f3241964898>"
      ]
     },
     "metadata": {
      "image/png": {
       "height": 250,
       "width": 253
      }
     },
     "output_type": "display_data"
    }
   ],
   "source": [
    "%matplotlib inline\n",
    "%config InlineBackend.figure_format = 'retina'\n",
    "\n",
    "import helper\n",
    "import numpy as np\n",
    "\n",
    "# Explore the dataset\n",
    "batch_id = 1\n",
    "sample_id = 5\n",
    "helper.display_stats(cifar10_dataset_folder_path, batch_id, sample_id)"
   ]
  },
  {
   "cell_type": "markdown",
   "metadata": {
    "deletable": true,
    "editable": true
   },
   "source": [
    "## Implement Preprocess Functions\n",
    "### Normalize\n",
    "In the cell below, implement the `normalize` function to take in image data, `x`, and return it as a normalized Numpy array. The values should be in the range of 0 to 1, inclusive.  The return object should be the same shape as `x`."
   ]
  },
  {
   "cell_type": "code",
   "execution_count": 3,
   "metadata": {
    "collapsed": false,
    "deletable": true,
    "editable": true
   },
   "outputs": [
    {
     "name": "stdout",
     "output_type": "stream",
     "text": [
      "Tests Passed\n"
     ]
    }
   ],
   "source": [
    "def normalize(x):\n",
    "    \"\"\"\n",
    "    Normalize a list of sample image data in the range of 0 to 1\n",
    "    : x: List of image data.  The image shape is (32, 32, 3)\n",
    "    : return: Numpy array of normalize data\n",
    "    \"\"\"\n",
    "    # TODO: Implement Function\n",
    "    a = 0\n",
    "    b = 1\n",
    "    x_max = np.max(x)\n",
    "    x_min = np.min(x)\n",
    "    return ((x - x_min)* (b - a))/ (x_max - x_min)\n",
    "\n",
    "\n",
    "\"\"\"\n",
    "DON'T MODIFY ANYTHING IN THIS CELL THAT IS BELOW THIS LINE\n",
    "\"\"\"\n",
    "tests.test_normalize(normalize)"
   ]
  },
  {
   "cell_type": "markdown",
   "metadata": {
    "deletable": true,
    "editable": true
   },
   "source": [
    "### One-hot encode\n",
    "Just like the previous code cell, you'll be implementing a function for preprocessing.  This time, you'll implement the `one_hot_encode` function. The input, `x`, are a list of labels.  Implement the function to return the list of labels as One-Hot encoded Numpy array.  The possible values for labels are 0 to 9. The one-hot encoding function should return the same encoding for each value between each call to `one_hot_encode`.  Make sure to save the map of encodings outside the function.\n",
    "\n",
    "Hint: Don't reinvent the wheel."
   ]
  },
  {
   "cell_type": "code",
   "execution_count": 4,
   "metadata": {
    "collapsed": false,
    "deletable": true,
    "editable": true
   },
   "outputs": [
    {
     "name": "stdout",
     "output_type": "stream",
     "text": [
      "Tests Passed\n"
     ]
    }
   ],
   "source": [
    "def one_hot_encode(x):\n",
    "    \"\"\"\n",
    "    One hot encode a list of sample labels. Return a one-hot encoded vector for each label.\n",
    "    : x: List of sample Labels\n",
    "    : return: Numpy array of one-hot encoded labels\n",
    "    \"\"\"\n",
    "    # TODO: Implement Function\n",
    "    hot_code = np.zeros((len(x), 10))\n",
    "    for i in range(len(x)):\n",
    "        hot_code[i][x[i]] = 1\n",
    "    return hot_code\n",
    "\n",
    "\n",
    "\"\"\"\n",
    "DON'T MODIFY ANYTHING IN THIS CELL THAT IS BELOW THIS LINE\n",
    "\"\"\"\n",
    "tests.test_one_hot_encode(one_hot_encode)"
   ]
  },
  {
   "cell_type": "markdown",
   "metadata": {
    "deletable": true,
    "editable": true
   },
   "source": [
    "### Randomize Data\n",
    "As you saw from exploring the data above, the order of the samples are randomized.  It doesn't hurt to randomize it again, but you don't need to for this dataset."
   ]
  },
  {
   "cell_type": "markdown",
   "metadata": {
    "deletable": true,
    "editable": true
   },
   "source": [
    "## Preprocess all the data and save it\n",
    "Running the code cell below will preprocess all the CIFAR-10 data and save it to file. The code below also uses 10% of the training data for validation."
   ]
  },
  {
   "cell_type": "code",
   "execution_count": 5,
   "metadata": {
    "collapsed": false,
    "deletable": true,
    "editable": true
   },
   "outputs": [],
   "source": [
    "\"\"\"\n",
    "DON'T MODIFY ANYTHING IN THIS CELL\n",
    "\"\"\"\n",
    "# Preprocess Training, Validation, and Testing Data\n",
    "helper.preprocess_and_save_data(cifar10_dataset_folder_path, normalize, one_hot_encode)"
   ]
  },
  {
   "cell_type": "markdown",
   "metadata": {
    "deletable": true,
    "editable": true
   },
   "source": [
    "# Check Point\n",
    "This is your first checkpoint.  If you ever decide to come back to this notebook or have to restart the notebook, you can start from here.  The preprocessed data has been saved to disk."
   ]
  },
  {
   "cell_type": "code",
   "execution_count": 6,
   "metadata": {
    "collapsed": true,
    "deletable": true,
    "editable": true
   },
   "outputs": [],
   "source": [
    "\"\"\"\n",
    "DON'T MODIFY ANYTHING IN THIS CELL\n",
    "\"\"\"\n",
    "import pickle\n",
    "import problem_unittests as tests\n",
    "import helper\n",
    "\n",
    "# Load the Preprocessed Validation data\n",
    "valid_features, valid_labels = pickle.load(open('preprocess_validation.p', mode='rb'))"
   ]
  },
  {
   "cell_type": "markdown",
   "metadata": {
    "deletable": true,
    "editable": true
   },
   "source": [
    "## Build the network\n",
    "For the neural network, you'll build each layer into a function.  Most of the code you've seen has been outside of functions. To test your code more thoroughly, we require that you put each layer in a function.  This allows us to give you better feedback and test for simple mistakes using our unittests before you submit your project.\n",
    "\n",
    ">**Note:** If you're finding it hard to dedicate enough time for this course each week, we've provided a small shortcut to this part of the project. In the next couple of problems, you'll have the option to use classes from the [TensorFlow Layers](https://www.tensorflow.org/api_docs/python/tf/layers) or [TensorFlow Layers (contrib)](https://www.tensorflow.org/api_guides/python/contrib.layers) packages to build each layer, except the layers you build in the \"Convolutional and Max Pooling Layer\" section.  TF Layers is similar to Keras's and TFLearn's abstraction to layers, so it's easy to pickup.\n",
    "\n",
    ">However, if you would like to get the most out of this course, try to solve all the problems _without_ using anything from the TF Layers packages. You **can** still use classes from other packages that happen to have the same name as ones you find in TF Layers! For example, instead of using the TF Layers version of the `conv2d` class, [tf.layers.conv2d](https://www.tensorflow.org/api_docs/python/tf/layers/conv2d), you would want to use the TF Neural Network version of `conv2d`, [tf.nn.conv2d](https://www.tensorflow.org/api_docs/python/tf/nn/conv2d). \n",
    "\n",
    "Let's begin!\n",
    "\n",
    "### Input\n",
    "The neural network needs to read the image data, one-hot encoded labels, and dropout keep probability. Implement the following functions\n",
    "* Implement `neural_net_image_input`\n",
    " * Return a [TF Placeholder](https://www.tensorflow.org/api_docs/python/tf/placeholder)\n",
    " * Set the shape using `image_shape` with batch size set to `None`.\n",
    " * Name the TensorFlow placeholder \"x\" using the TensorFlow `name` parameter in the [TF Placeholder](https://www.tensorflow.org/api_docs/python/tf/placeholder).\n",
    "* Implement `neural_net_label_input`\n",
    " * Return a [TF Placeholder](https://www.tensorflow.org/api_docs/python/tf/placeholder)\n",
    " * Set the shape using `n_classes` with batch size set to `None`.\n",
    " * Name the TensorFlow placeholder \"y\" using the TensorFlow `name` parameter in the [TF Placeholder](https://www.tensorflow.org/api_docs/python/tf/placeholder).\n",
    "* Implement `neural_net_keep_prob_input`\n",
    " * Return a [TF Placeholder](https://www.tensorflow.org/api_docs/python/tf/placeholder) for dropout keep probability.\n",
    " * Name the TensorFlow placeholder \"keep_prob\" using the TensorFlow `name` parameter in the [TF Placeholder](https://www.tensorflow.org/api_docs/python/tf/placeholder).\n",
    "\n",
    "These names will be used at the end of the project to load your saved model.\n",
    "\n",
    "Note: `None` for shapes in TensorFlow allow for a dynamic size."
   ]
  },
  {
   "cell_type": "code",
   "execution_count": 7,
   "metadata": {
    "collapsed": false,
    "deletable": true,
    "editable": true
   },
   "outputs": [
    {
     "name": "stdout",
     "output_type": "stream",
     "text": [
      "Image Input Tests Passed.\n",
      "Label Input Tests Passed.\n",
      "Keep Prob Tests Passed.\n"
     ]
    }
   ],
   "source": [
    "import tensorflow as tf\n",
    "\n",
    "def neural_net_image_input(image_shape):\n",
    "    \"\"\"\n",
    "    Return a Tensor for a bach of image input\n",
    "    : image_shape: Shape of the images\n",
    "    : return: Tensor for image input.\n",
    "    \"\"\"\n",
    "    # TODO: Implement Function\n",
    "    return tf.placeholder(tf.float32, shape=[None, *image_shape], name='x')\n",
    "\n",
    "\n",
    "def neural_net_label_input(n_classes):\n",
    "    \"\"\"\n",
    "    Return a Tensor for a batch of label input\n",
    "    : n_classes: Number of classes\n",
    "    : return: Tensor for label input.\n",
    "    \"\"\"\n",
    "    # TODO: Implement Function\n",
    "    return tf.placeholder(tf.float32, shape=[None, n_classes], name='y')\n",
    "\n",
    "\n",
    "def neural_net_keep_prob_input():\n",
    "    \"\"\"\n",
    "    Return a Tensor for keep probability\n",
    "    : return: Tensor for keep probability.\n",
    "    \"\"\"\n",
    "    # TODO: Implement Function\n",
    "    return tf.placeholder(tf.float32, name='keep_prob')\n",
    "\n",
    "\n",
    "\"\"\"\n",
    "DON'T MODIFY ANYTHING IN THIS CELL THAT IS BELOW THIS LINE\n",
    "\"\"\"\n",
    "tf.reset_default_graph()\n",
    "tests.test_nn_image_inputs(neural_net_image_input)\n",
    "tests.test_nn_label_inputs(neural_net_label_input)\n",
    "tests.test_nn_keep_prob_inputs(neural_net_keep_prob_input)"
   ]
  },
  {
   "cell_type": "markdown",
   "metadata": {
    "deletable": true,
    "editable": true
   },
   "source": [
    "### Convolution and Max Pooling Layer\n",
    "Convolution layers have a lot of success with images. For this code cell, you should implement the function `conv2d_maxpool` to apply convolution then max pooling:\n",
    "* Create the weight and bias using `conv_ksize`, `conv_num_outputs` and the shape of `x_tensor`.\n",
    "* Apply a convolution to `x_tensor` using weight and `conv_strides`.\n",
    " * We recommend you use same padding, but you're welcome to use any padding.\n",
    "* Add bias\n",
    "* Add a nonlinear activation to the convolution.\n",
    "* Apply Max Pooling using `pool_ksize` and `pool_strides`.\n",
    " * We recommend you use same padding, but you're welcome to use any padding.\n",
    "\n",
    "**Note:** You **can't** use [TensorFlow Layers](https://www.tensorflow.org/api_docs/python/tf/layers) or [TensorFlow Layers (contrib)](https://www.tensorflow.org/api_guides/python/contrib.layers) for **this** layer, but you can still use TensorFlow's [Neural Network](https://www.tensorflow.org/api_docs/python/tf/nn) package. You may still use the shortcut option for all the **other** layers."
   ]
  },
  {
   "cell_type": "code",
   "execution_count": 8,
   "metadata": {
    "collapsed": false,
    "deletable": true,
    "editable": true
   },
   "outputs": [
    {
     "name": "stdout",
     "output_type": "stream",
     "text": [
      "Tests Passed\n"
     ]
    }
   ],
   "source": [
    "def conv2d_maxpool(x_tensor, conv_num_outputs, conv_ksize, conv_strides, pool_ksize, pool_strides):\n",
    "    \"\"\"\n",
    "    Apply convolution then max pooling to x_tensor\n",
    "    :param x_tensor: TensorFlow Tensor\n",
    "    :param conv_num_outputs: Number of outputs for the convolutional layer\n",
    "    :param conv_ksize: kernal size 2-D Tuple for the convolutional layer\n",
    "    :param conv_strides: Stride 2-D Tuple for convolution\n",
    "    :param pool_ksize: kernal size 2-D Tuple for pool\n",
    "    :param pool_strides: Stride 2-D Tuple for pool\n",
    "    : return: A tensor that represents convolution and max pooling of x_tensor\n",
    "    \"\"\"\n",
    "    # TODO: Implement Function\n",
    "    flt_weghts = tf.Variable(tf.truncated_normal([*conv_ksize, int(x_tensor.get_shape()[3]), conv_num_outputs], dtype=tf.float32))\n",
    "    flt_bias = tf.Variable(tf.constant(0, shape=[conv_num_outputs], dtype=tf.float32))\n",
    "    conv_layer = tf.nn.conv2d(input=x_tensor, filter=flt_weghts, strides=[1, *conv_strides, 1], padding='SAME')\n",
    "    conv_layer = conv_layer + flt_bias\n",
    "    conv_layer = tf.nn.max_pool(conv_layer, [1, *pool_ksize, 1], strides=[1, *pool_strides, 1], padding='SAME')\n",
    "    return conv_layer\n",
    "\n",
    "\n",
    "\"\"\"\n",
    "DON'T MODIFY ANYTHING IN THIS CELL THAT IS BELOW THIS LINE\n",
    "\"\"\"\n",
    "tests.test_con_pool(conv2d_maxpool)"
   ]
  },
  {
   "cell_type": "markdown",
   "metadata": {
    "deletable": true,
    "editable": true
   },
   "source": [
    "### Flatten Layer\n",
    "Implement the `flatten` function to change the dimension of `x_tensor` from a 4-D tensor to a 2-D tensor.  The output should be the shape (*Batch Size*, *Flattened Image Size*). Shortcut option: you can use classes from the [TensorFlow Layers](https://www.tensorflow.org/api_docs/python/tf/layers) or [TensorFlow Layers (contrib)](https://www.tensorflow.org/api_guides/python/contrib.layers) packages for this layer. For more of a challenge, only use other TensorFlow packages."
   ]
  },
  {
   "cell_type": "code",
   "execution_count": 9,
   "metadata": {
    "collapsed": false,
    "deletable": true,
    "editable": true
   },
   "outputs": [
    {
     "name": "stdout",
     "output_type": "stream",
     "text": [
      "Tests Passed\n"
     ]
    }
   ],
   "source": [
    "def flatten(x_tensor):\n",
    "    \"\"\"\n",
    "    Flatten x_tensor to (Batch Size, Flattened Image Size)\n",
    "    : x_tensor: A tensor of size (Batch Size, ...), where ... are the image dimensions.\n",
    "    : return: A tensor of size (Batch Size, Flattened Image Size).\n",
    "    \"\"\"\n",
    "    # TODO: Implement Function\n",
    "    tot_features = x_tensor.get_shape()[1:4].num_elements()\n",
    "    return tf.reshape(x_tensor, [-1, tot_features])\n",
    "\n",
    "\n",
    "\"\"\"\n",
    "DON'T MODIFY ANYTHING IN THIS CELL THAT IS BELOW THIS LINE\n",
    "\"\"\"\n",
    "tests.test_flatten(flatten)"
   ]
  },
  {
   "cell_type": "markdown",
   "metadata": {
    "deletable": true,
    "editable": true
   },
   "source": [
    "### Fully-Connected Layer\n",
    "Implement the `fully_conn` function to apply a fully connected layer to `x_tensor` with the shape (*Batch Size*, *num_outputs*). Shortcut option: you can use classes from the [TensorFlow Layers](https://www.tensorflow.org/api_docs/python/tf/layers) or [TensorFlow Layers (contrib)](https://www.tensorflow.org/api_guides/python/contrib.layers) packages for this layer. For more of a challenge, only use other TensorFlow packages."
   ]
  },
  {
   "cell_type": "code",
   "execution_count": 10,
   "metadata": {
    "collapsed": false,
    "deletable": true,
    "editable": true
   },
   "outputs": [
    {
     "name": "stdout",
     "output_type": "stream",
     "text": [
      "Tests Passed\n"
     ]
    }
   ],
   "source": [
    "def fully_conn(x_tensor, num_outputs):\n",
    "    \"\"\"\n",
    "    Apply a fully connected layer to x_tensor using weight and bias\n",
    "    : x_tensor: A 2-D tensor where the first dimension is batch size.\n",
    "    : num_outputs: The number of output that the new tensor should be.\n",
    "    : return: A 2-D tensor where the second dimension is num_outputs.\n",
    "    \"\"\"\n",
    "    # TODO: Implement Function\n",
    "    fully_conn_weights = tf.Variable(tf.truncated_normal([int(x_tensor.get_shape()[1]), num_outputs], dtype=tf.float32, stddev = 0.03))\n",
    "    fully_conn_bias = tf.Variable(tf.constant(0, shape=[num_outputs], dtype=tf.float32))\n",
    "    return tf.add(tf.matmul(x_tensor, fully_conn_weights), fully_conn_bias)\n",
    "\n",
    "\n",
    "\"\"\"\n",
    "DON'T MODIFY ANYTHING IN THIS CELL THAT IS BELOW THIS LINE\n",
    "\"\"\"\n",
    "tests.test_fully_conn(fully_conn)"
   ]
  },
  {
   "cell_type": "markdown",
   "metadata": {
    "deletable": true,
    "editable": true
   },
   "source": [
    "### Output Layer\n",
    "Implement the `output` function to apply a fully connected layer to `x_tensor` with the shape (*Batch Size*, *num_outputs*). Shortcut option: you can use classes from the [TensorFlow Layers](https://www.tensorflow.org/api_docs/python/tf/layers) or [TensorFlow Layers (contrib)](https://www.tensorflow.org/api_guides/python/contrib.layers) packages for this layer. For more of a challenge, only use other TensorFlow packages.\n",
    "\n",
    "**Note:** Activation, softmax, or cross entropy should **not** be applied to this."
   ]
  },
  {
   "cell_type": "code",
   "execution_count": 11,
   "metadata": {
    "collapsed": false,
    "deletable": true,
    "editable": true
   },
   "outputs": [
    {
     "name": "stdout",
     "output_type": "stream",
     "text": [
      "Tests Passed\n"
     ]
    }
   ],
   "source": [
    "def output(x_tensor, num_outputs):\n",
    "    \"\"\"\n",
    "    Apply a output layer to x_tensor using weight and bias\n",
    "    : x_tensor: A 2-D tensor where the first dimension is batch size.\n",
    "    : num_outputs: The number of output that the new tensor should be.\n",
    "    : return: A 2-D tensor where the second dimension is num_outputs.\n",
    "    \"\"\"\n",
    "    # TODO: Implement Function\n",
    "    return fully_conn(x_tensor, num_outputs)\n",
    "\n",
    "\n",
    "\"\"\"\n",
    "DON'T MODIFY ANYTHING IN THIS CELL THAT IS BELOW THIS LINE\n",
    "\"\"\"\n",
    "tests.test_output(output)"
   ]
  },
  {
   "cell_type": "markdown",
   "metadata": {
    "deletable": true,
    "editable": true
   },
   "source": [
    "### Create Convolutional Model\n",
    "Implement the function `conv_net` to create a convolutional neural network model. The function takes in a batch of images, `x`, and outputs logits.  Use the layers you created above to create this model:\n",
    "\n",
    "* Apply 1, 2, or 3 Convolution and Max Pool layers\n",
    "* Apply a Flatten Layer\n",
    "* Apply 1, 2, or 3 Fully Connected Layers\n",
    "* Apply an Output Layer\n",
    "* Return the output\n",
    "* Apply [TensorFlow's Dropout](https://www.tensorflow.org/api_docs/python/tf/nn/dropout) to one or more layers in the model using `keep_prob`. "
   ]
  },
  {
   "cell_type": "code",
   "execution_count": 16,
   "metadata": {
    "collapsed": false,
    "deletable": true,
    "editable": true
   },
   "outputs": [
    {
     "name": "stdout",
     "output_type": "stream",
     "text": [
      "Neural Network Built!\n"
     ]
    }
   ],
   "source": [
    "def conv_net(x, keep_prob):\n",
    "    \"\"\"\n",
    "    Create a convolutional neural network model\n",
    "    : x: Placeholder tensor that holds image data.\n",
    "    : keep_prob: Placeholder tensor that hold dropout keep probability.\n",
    "    : return: Tensor that represents logits\n",
    "    \"\"\"\n",
    "    # TODO: Apply 1, 2, or 3 Convolution and Max Pool layers\n",
    "    #    Play around with different number of outputs, kernel size and stride\n",
    "    # Function Definition from Above:\n",
    "    #    conv2d_maxpool(x_tensor, conv_num_outputs, conv_ksize, conv_strides, pool_ksize, pool_strides)\n",
    "    conv_strides = (1, 1)\n",
    "    conv_ksize = (3, 3)\n",
    "    conv_num_outputs = 10\n",
    "    pool_ksize = (3, 3)\n",
    "    pool_strides = (2, 2)\n",
    "    conv_layer1 = conv2d_maxpool(x, conv_num_outputs, conv_ksize, conv_strides, pool_ksize, pool_strides)\n",
    "    \n",
    "    # Dropout\n",
    "    conv_layer1 = tf.nn.dropout(conv_layer1, keep_prob)\n",
    "    \n",
    "    # flatten layer\n",
    "    flatten_layer1 = flatten(conv_layer1)\n",
    "\n",
    "    # FCL\n",
    "    num_outputs = 10\n",
    "    fcl = fully_conn(flatten_layer1, num_outputs)\n",
    "    \n",
    "    # Output Layer    \n",
    "    output_layer = output(fcl, 10)\n",
    "    \n",
    "    # TODO: return output\n",
    "    \n",
    "    return output_layer\n",
    "\n",
    "\n",
    "\"\"\"\n",
    "DON'T MODIFY ANYTHING IN THIS CELL THAT IS BELOW THIS LINE\n",
    "\"\"\"\n",
    "\n",
    "##############################\n",
    "## Build the Neural Network ##\n",
    "##############################\n",
    "\n",
    "# Remove previous weights, bias, inputs, etc..\n",
    "tf.reset_default_graph()\n",
    "\n",
    "# Inputs\n",
    "x = neural_net_image_input((32, 32, 3))\n",
    "y = neural_net_label_input(10)\n",
    "keep_prob = neural_net_keep_prob_input()\n",
    "\n",
    "# Model\n",
    "logits = conv_net(x, keep_prob)\n",
    "\n",
    "# Name logits Tensor, so that is can be loaded from disk after training\n",
    "logits = tf.identity(logits, name='logits')\n",
    "\n",
    "# Loss and Optimizer\n",
    "cost = tf.reduce_mean(tf.nn.softmax_cross_entropy_with_logits(logits=logits, labels=y))\n",
    "optimizer = tf.train.AdamOptimizer().minimize(cost)\n",
    "\n",
    "# Accuracy\n",
    "correct_pred = tf.equal(tf.argmax(logits, 1), tf.argmax(y, 1))\n",
    "accuracy = tf.reduce_mean(tf.cast(correct_pred, tf.float32), name='accuracy')\n",
    "\n",
    "tests.test_conv_net(conv_net)"
   ]
  },
  {
   "cell_type": "markdown",
   "metadata": {
    "deletable": true,
    "editable": true
   },
   "source": [
    "## Train the Neural Network\n",
    "### Single Optimization\n",
    "Implement the function `train_neural_network` to do a single optimization.  The optimization should use `optimizer` to optimize in `session` with a `feed_dict` of the following:\n",
    "* `x` for image input\n",
    "* `y` for labels\n",
    "* `keep_prob` for keep probability for dropout\n",
    "\n",
    "This function will be called for each batch, so `tf.global_variables_initializer()` has already been called.\n",
    "\n",
    "Note: Nothing needs to be returned. This function is only optimizing the neural network."
   ]
  },
  {
   "cell_type": "code",
   "execution_count": 17,
   "metadata": {
    "collapsed": false,
    "deletable": true,
    "editable": true
   },
   "outputs": [
    {
     "name": "stdout",
     "output_type": "stream",
     "text": [
      "Tests Passed\n"
     ]
    }
   ],
   "source": [
    "def train_neural_network(session, optimizer, keep_probability, feature_batch, label_batch):\n",
    "    \"\"\"\n",
    "    Optimize the session on a batch of images and labels\n",
    "    : session: Current TensorFlow session\n",
    "    : optimizer: TensorFlow optimizer function\n",
    "    : keep_probability: keep probability\n",
    "    : feature_batch: Batch of Numpy image data\n",
    "    : label_batch: Batch of Numpy label data\n",
    "    \"\"\"\n",
    "    # TODO: Implement Function\n",
    "    feed_dict_train = {x: feature_batch , y: label_batch, keep_prob: keep_probability}\n",
    "    session.run(optimizer, feed_dict=feed_dict_train)\n",
    "\n",
    "\n",
    "\"\"\"\n",
    "DON'T MODIFY ANYTHING IN THIS CELL THAT IS BELOW THIS LINE\n",
    "\"\"\"\n",
    "tests.test_train_nn(train_neural_network)"
   ]
  },
  {
   "cell_type": "markdown",
   "metadata": {
    "deletable": true,
    "editable": true
   },
   "source": [
    "### Show Stats\n",
    "Implement the function `print_stats` to print loss and validation accuracy.  Use the global variables `valid_features` and `valid_labels` to calculate validation accuracy.  Use a keep probability of `1.0` to calculate the loss and validation accuracy."
   ]
  },
  {
   "cell_type": "code",
   "execution_count": 18,
   "metadata": {
    "collapsed": false,
    "deletable": true,
    "editable": true
   },
   "outputs": [],
   "source": [
    "def print_stats(session, feature_batch, label_batch, cost, accuracy):\n",
    "    \"\"\"\n",
    "    Print information about loss and validation accuracy\n",
    "    : session: Current TensorFlow session\n",
    "    : feature_batch: Batch of Numpy image data\n",
    "    : label_batch: Batch of Numpy label data\n",
    "    : cost: TensorFlow cost function\n",
    "    : accuracy: TensorFlow accuracy function\n",
    "    \"\"\"\n",
    "    # TODO: Implement Function\n",
    "    training_accuracy = session.run(accuracy, feed_dict={x: feature_batch, y: label_batch, keep_prob: 1.0})\n",
    "    training_cost = session.run(cost, feed_dict={x: feature_batch, y: label_batch, keep_prob: 1.0})\n",
    "    validation_accuracy = session.run(accuracy, feed_dict={x: valid_features, y: valid_labels, keep_prob: 1.0})\n",
    "    validation_cost = session.run(cost, feed_dict={x: valid_features, y: valid_labels, keep_prob:1.0})\n",
    "    \n",
    "    print(\"Train acc: {:0.4f}, Train cost: {:0.4f}\\tVal acc: {:0.4f}, Val cost: {:0.4f}\"\n",
    "          .format(training_accuracy, training_cost, validation_accuracy, validation_cost))\n",
    "   "
   ]
  },
  {
   "cell_type": "markdown",
   "metadata": {
    "deletable": true,
    "editable": true
   },
   "source": [
    "### Hyperparameters\n",
    "Tune the following parameters:\n",
    "* Set `epochs` to the number of iterations until the network stops learning or start overfitting\n",
    "* Set `batch_size` to the highest number that your machine has memory for.  Most people set them to common sizes of memory:\n",
    " * 64\n",
    " * 128\n",
    " * 256\n",
    " * ...\n",
    "* Set `keep_probability` to the probability of keeping a node using dropout"
   ]
  },
  {
   "cell_type": "code",
   "execution_count": 21,
   "metadata": {
    "collapsed": true,
    "deletable": true,
    "editable": true
   },
   "outputs": [],
   "source": [
    "# TODO: Tune Parameters\n",
    "epochs = 55\n",
    "batch_size = 512\n",
    "keep_probability = 0.6"
   ]
  },
  {
   "cell_type": "markdown",
   "metadata": {
    "deletable": true,
    "editable": true
   },
   "source": [
    "### Train on a Single CIFAR-10 Batch\n",
    "Instead of training the neural network on all the CIFAR-10 batches of data, let's use a single batch. This should save time while you iterate on the model to get a better accuracy.  Once the final validation accuracy is 50% or greater, run the model on all the data in the next section."
   ]
  },
  {
   "cell_type": "code",
   "execution_count": 22,
   "metadata": {
    "collapsed": false,
    "deletable": true,
    "editable": true
   },
   "outputs": [
    {
     "name": "stdout",
     "output_type": "stream",
     "text": [
      "Checking the Training on a Single Batch...\n",
      "Epoch  1, CIFAR-10 Batch 1:  Train acc: 0.3007, Train cost: 2.0227\tVal acc: 0.2932, Val cost: 1.9861\n",
      "Epoch  2, CIFAR-10 Batch 1:  Train acc: 0.3176, Train cost: 1.9012\tVal acc: 0.3520, Val cost: 1.8280\n",
      "Epoch  3, CIFAR-10 Batch 1:  Train acc: 0.3615, Train cost: 1.8133\tVal acc: 0.3810, Val cost: 1.7423\n",
      "Epoch  4, CIFAR-10 Batch 1:  Train acc: 0.3784, Train cost: 1.7433\tVal acc: 0.3988, Val cost: 1.6913\n",
      "Epoch  5, CIFAR-10 Batch 1:  Train acc: 0.3953, Train cost: 1.6975\tVal acc: 0.4206, Val cost: 1.6531\n",
      "Epoch  6, CIFAR-10 Batch 1:  Train acc: 0.4223, Train cost: 1.6619\tVal acc: 0.4338, Val cost: 1.6223\n",
      "Epoch  7, CIFAR-10 Batch 1:  Train acc: 0.4392, Train cost: 1.6278\tVal acc: 0.4420, Val cost: 1.5994\n",
      "Epoch  8, CIFAR-10 Batch 1:  Train acc: 0.4426, Train cost: 1.5969\tVal acc: 0.4444, Val cost: 1.5791\n",
      "Epoch  9, CIFAR-10 Batch 1:  Train acc: 0.4595, Train cost: 1.5670\tVal acc: 0.4518, Val cost: 1.5600\n",
      "Epoch 10, CIFAR-10 Batch 1:  Train acc: 0.4865, Train cost: 1.5364\tVal acc: 0.4598, Val cost: 1.5416\n",
      "Epoch 11, CIFAR-10 Batch 1:  Train acc: 0.4831, Train cost: 1.5135\tVal acc: 0.4630, Val cost: 1.5289\n",
      "Epoch 12, CIFAR-10 Batch 1:  Train acc: 0.4932, Train cost: 1.4827\tVal acc: 0.4662, Val cost: 1.5138\n",
      "Epoch 13, CIFAR-10 Batch 1:  Train acc: 0.5101, Train cost: 1.4594\tVal acc: 0.4698, Val cost: 1.5012\n",
      "Epoch 14, CIFAR-10 Batch 1:  Train acc: 0.5236, Train cost: 1.4363\tVal acc: 0.4772, Val cost: 1.4906\n",
      "Epoch 15, CIFAR-10 Batch 1:  Train acc: 0.5304, Train cost: 1.4125\tVal acc: 0.4794, Val cost: 1.4803\n",
      "Epoch 16, CIFAR-10 Batch 1:  Train acc: 0.5439, Train cost: 1.3918\tVal acc: 0.4854, Val cost: 1.4713\n",
      "Epoch 17, CIFAR-10 Batch 1:  Train acc: 0.5541, Train cost: 1.3705\tVal acc: 0.4868, Val cost: 1.4598\n",
      "Epoch 18, CIFAR-10 Batch 1:  Train acc: 0.5574, Train cost: 1.3527\tVal acc: 0.4902, Val cost: 1.4517\n",
      "Epoch 19, CIFAR-10 Batch 1:  Train acc: 0.5642, Train cost: 1.3340\tVal acc: 0.4914, Val cost: 1.4451\n",
      "Epoch 20, CIFAR-10 Batch 1:  Train acc: 0.5743, Train cost: 1.3135\tVal acc: 0.4970, Val cost: 1.4358\n",
      "Epoch 21, CIFAR-10 Batch 1:  Train acc: 0.5777, Train cost: 1.2946\tVal acc: 0.4980, Val cost: 1.4278\n",
      "Epoch 22, CIFAR-10 Batch 1:  Train acc: 0.5980, Train cost: 1.2767\tVal acc: 0.5018, Val cost: 1.4212\n",
      "Epoch 23, CIFAR-10 Batch 1:  Train acc: 0.6047, Train cost: 1.2632\tVal acc: 0.5032, Val cost: 1.4157\n",
      "Epoch 24, CIFAR-10 Batch 1:  Train acc: 0.6047, Train cost: 1.2466\tVal acc: 0.5090, Val cost: 1.4102\n",
      "Epoch 25, CIFAR-10 Batch 1:  Train acc: 0.6250, Train cost: 1.2298\tVal acc: 0.5120, Val cost: 1.4038\n",
      "Epoch 26, CIFAR-10 Batch 1:  Train acc: 0.6250, Train cost: 1.2178\tVal acc: 0.5130, Val cost: 1.4001\n",
      "Epoch 27, CIFAR-10 Batch 1:  Train acc: 0.6216, Train cost: 1.2012\tVal acc: 0.5176, Val cost: 1.3937\n",
      "Epoch 28, CIFAR-10 Batch 1:  Train acc: 0.6216, Train cost: 1.1898\tVal acc: 0.5200, Val cost: 1.3918\n",
      "Epoch 29, CIFAR-10 Batch 1:  Train acc: 0.6284, Train cost: 1.1758\tVal acc: 0.5192, Val cost: 1.3880\n",
      "Epoch 30, CIFAR-10 Batch 1:  Train acc: 0.6318, Train cost: 1.1619\tVal acc: 0.5176, Val cost: 1.3848\n",
      "Epoch 31, CIFAR-10 Batch 1:  Train acc: 0.6385, Train cost: 1.1490\tVal acc: 0.5190, Val cost: 1.3792\n",
      "Epoch 32, CIFAR-10 Batch 1:  Train acc: 0.6284, Train cost: 1.1360\tVal acc: 0.5202, Val cost: 1.3768\n",
      "Epoch 33, CIFAR-10 Batch 1:  Train acc: 0.6284, Train cost: 1.1243\tVal acc: 0.5230, Val cost: 1.3722\n",
      "Epoch 34, CIFAR-10 Batch 1:  Train acc: 0.6486, Train cost: 1.1101\tVal acc: 0.5266, Val cost: 1.3703\n",
      "Epoch 35, CIFAR-10 Batch 1:  Train acc: 0.6520, Train cost: 1.0958\tVal acc: 0.5272, Val cost: 1.3650\n",
      "Epoch 36, CIFAR-10 Batch 1:  Train acc: 0.6520, Train cost: 1.0896\tVal acc: 0.5268, Val cost: 1.3642\n",
      "Epoch 37, CIFAR-10 Batch 1:  Train acc: 0.6453, Train cost: 1.0758\tVal acc: 0.5306, Val cost: 1.3622\n",
      "Epoch 38, CIFAR-10 Batch 1:  Train acc: 0.6520, Train cost: 1.0702\tVal acc: 0.5314, Val cost: 1.3623\n",
      "Epoch 39, CIFAR-10 Batch 1:  Train acc: 0.6486, Train cost: 1.0586\tVal acc: 0.5290, Val cost: 1.3599\n",
      "Epoch 40, CIFAR-10 Batch 1:  Train acc: 0.6486, Train cost: 1.0538\tVal acc: 0.5284, Val cost: 1.3581\n",
      "Epoch 41, CIFAR-10 Batch 1:  Train acc: 0.6588, Train cost: 1.0463\tVal acc: 0.5298, Val cost: 1.3571\n",
      "Epoch 42, CIFAR-10 Batch 1:  Train acc: 0.6588, Train cost: 1.0325\tVal acc: 0.5316, Val cost: 1.3556\n",
      "Epoch 43, CIFAR-10 Batch 1:  Train acc: 0.6622, Train cost: 1.0297\tVal acc: 0.5322, Val cost: 1.3533\n",
      "Epoch 44, CIFAR-10 Batch 1:  Train acc: 0.6554, Train cost: 1.0186\tVal acc: 0.5346, Val cost: 1.3517\n",
      "Epoch 45, CIFAR-10 Batch 1:  Train acc: 0.6655, Train cost: 1.0155\tVal acc: 0.5362, Val cost: 1.3496\n",
      "Epoch 46, CIFAR-10 Batch 1:  Train acc: 0.6723, Train cost: 0.9979\tVal acc: 0.5378, Val cost: 1.3472\n",
      "Epoch 47, CIFAR-10 Batch 1:  Train acc: 0.6757, Train cost: 0.9951\tVal acc: 0.5374, Val cost: 1.3453\n",
      "Epoch 48, CIFAR-10 Batch 1:  Train acc: 0.6791, Train cost: 0.9869\tVal acc: 0.5370, Val cost: 1.3445\n",
      "Epoch 49, CIFAR-10 Batch 1:  Train acc: 0.6824, Train cost: 0.9808\tVal acc: 0.5374, Val cost: 1.3446\n",
      "Epoch 50, CIFAR-10 Batch 1:  Train acc: 0.6824, Train cost: 0.9755\tVal acc: 0.5386, Val cost: 1.3444\n",
      "Epoch 51, CIFAR-10 Batch 1:  Train acc: 0.6926, Train cost: 0.9662\tVal acc: 0.5382, Val cost: 1.3436\n",
      "Epoch 52, CIFAR-10 Batch 1:  Train acc: 0.6959, Train cost: 0.9574\tVal acc: 0.5404, Val cost: 1.3409\n",
      "Epoch 53, CIFAR-10 Batch 1:  Train acc: 0.6959, Train cost: 0.9527\tVal acc: 0.5372, Val cost: 1.3427\n",
      "Epoch 54, CIFAR-10 Batch 1:  Train acc: 0.6959, Train cost: 0.9464\tVal acc: 0.5398, Val cost: 1.3416\n",
      "Epoch 55, CIFAR-10 Batch 1:  Train acc: 0.6959, Train cost: 0.9389\tVal acc: 0.5408, Val cost: 1.3380\n"
     ]
    }
   ],
   "source": [
    "\"\"\"\n",
    "DON'T MODIFY ANYTHING IN THIS CELL\n",
    "\"\"\"\n",
    "print('Checking the Training on a Single Batch...')\n",
    "with tf.Session() as sess:\n",
    "    # Initializing the variables\n",
    "    sess.run(tf.global_variables_initializer())\n",
    "    \n",
    "    # Training cycle\n",
    "    for epoch in range(epochs):\n",
    "        batch_i = 1\n",
    "        for batch_features, batch_labels in helper.load_preprocess_training_batch(batch_i, batch_size):\n",
    "            train_neural_network(sess, optimizer, keep_probability, batch_features, batch_labels)\n",
    "        print('Epoch {:>2}, CIFAR-10 Batch {}:  '.format(epoch + 1, batch_i), end='')\n",
    "        print_stats(sess, batch_features, batch_labels, cost, accuracy)"
   ]
  },
  {
   "cell_type": "markdown",
   "metadata": {
    "deletable": true,
    "editable": true
   },
   "source": [
    "### Fully Train the Model\n",
    "Now that you got a good accuracy with a single CIFAR-10 batch, try it with all five batches."
   ]
  },
  {
   "cell_type": "code",
   "execution_count": 23,
   "metadata": {
    "collapsed": false,
    "deletable": true,
    "editable": true
   },
   "outputs": [
    {
     "name": "stdout",
     "output_type": "stream",
     "text": [
      "Training...\n",
      "Epoch  1, CIFAR-10 Batch 1:  Train acc: 0.2399, Train cost: 2.0776\tVal acc: 0.2916, Val cost: 2.0551\n",
      "Epoch  1, CIFAR-10 Batch 2:  Train acc: 0.3851, Train cost: 1.8439\tVal acc: 0.3420, Val cost: 1.8729\n",
      "Epoch  1, CIFAR-10 Batch 3:  Train acc: 0.4324, Train cost: 1.7439\tVal acc: 0.3650, Val cost: 1.7894\n",
      "Epoch  1, CIFAR-10 Batch 4:  Train acc: 0.4122, Train cost: 1.6530\tVal acc: 0.3926, Val cost: 1.7334\n",
      "Epoch  1, CIFAR-10 Batch 5:  Train acc: 0.4426, Train cost: 1.7052\tVal acc: 0.3956, Val cost: 1.6985\n",
      "Epoch  2, CIFAR-10 Batch 1:  Train acc: 0.3851, Train cost: 1.7399\tVal acc: 0.4122, Val cost: 1.6618\n",
      "Epoch  2, CIFAR-10 Batch 2:  Train acc: 0.4426, Train cost: 1.6196\tVal acc: 0.4230, Val cost: 1.6325\n",
      "Epoch  2, CIFAR-10 Batch 3:  Train acc: 0.4696, Train cost: 1.5334\tVal acc: 0.4232, Val cost: 1.6106\n",
      "Epoch  2, CIFAR-10 Batch 4:  Train acc: 0.4628, Train cost: 1.4729\tVal acc: 0.4408, Val cost: 1.5821\n",
      "Epoch  2, CIFAR-10 Batch 5:  Train acc: 0.4797, Train cost: 1.5764\tVal acc: 0.4472, Val cost: 1.5600\n",
      "Epoch  3, CIFAR-10 Batch 1:  Train acc: 0.4426, Train cost: 1.6067\tVal acc: 0.4492, Val cost: 1.5448\n",
      "Epoch  3, CIFAR-10 Batch 2:  Train acc: 0.4966, Train cost: 1.4998\tVal acc: 0.4612, Val cost: 1.5286\n",
      "Epoch  3, CIFAR-10 Batch 3:  Train acc: 0.4899, Train cost: 1.4501\tVal acc: 0.4560, Val cost: 1.5215\n",
      "Epoch  3, CIFAR-10 Batch 4:  Train acc: 0.5034, Train cost: 1.3732\tVal acc: 0.4660, Val cost: 1.5020\n",
      "Epoch  3, CIFAR-10 Batch 5:  Train acc: 0.5101, Train cost: 1.4951\tVal acc: 0.4712, Val cost: 1.4882\n",
      "Epoch  4, CIFAR-10 Batch 1:  Train acc: 0.4865, Train cost: 1.5334\tVal acc: 0.4756, Val cost: 1.4816\n",
      "Epoch  4, CIFAR-10 Batch 2:  Train acc: 0.5203, Train cost: 1.4230\tVal acc: 0.4880, Val cost: 1.4631\n",
      "Epoch  4, CIFAR-10 Batch 3:  Train acc: 0.5034, Train cost: 1.3877\tVal acc: 0.4788, Val cost: 1.4662\n",
      "Epoch  4, CIFAR-10 Batch 4:  Train acc: 0.5169, Train cost: 1.3062\tVal acc: 0.4846, Val cost: 1.4488\n",
      "Epoch  4, CIFAR-10 Batch 5:  Train acc: 0.5236, Train cost: 1.4404\tVal acc: 0.4928, Val cost: 1.4415\n",
      "Epoch  5, CIFAR-10 Batch 1:  Train acc: 0.5270, Train cost: 1.4772\tVal acc: 0.4918, Val cost: 1.4313\n",
      "Epoch  5, CIFAR-10 Batch 2:  Train acc: 0.5304, Train cost: 1.3713\tVal acc: 0.5012, Val cost: 1.4235\n",
      "Epoch  5, CIFAR-10 Batch 3:  Train acc: 0.5236, Train cost: 1.3331\tVal acc: 0.4996, Val cost: 1.4221\n",
      "Epoch  5, CIFAR-10 Batch 4:  Train acc: 0.5541, Train cost: 1.2530\tVal acc: 0.5016, Val cost: 1.4078\n",
      "Epoch  5, CIFAR-10 Batch 5:  Train acc: 0.5405, Train cost: 1.3980\tVal acc: 0.5028, Val cost: 1.4048\n",
      "Epoch  6, CIFAR-10 Batch 1:  Train acc: 0.5304, Train cost: 1.4260\tVal acc: 0.5052, Val cost: 1.3948\n",
      "Epoch  6, CIFAR-10 Batch 2:  Train acc: 0.5405, Train cost: 1.3265\tVal acc: 0.5176, Val cost: 1.3903\n",
      "Epoch  6, CIFAR-10 Batch 3:  Train acc: 0.5541, Train cost: 1.2884\tVal acc: 0.5166, Val cost: 1.3910\n",
      "Epoch  6, CIFAR-10 Batch 4:  Train acc: 0.5777, Train cost: 1.2195\tVal acc: 0.5188, Val cost: 1.3775\n",
      "Epoch  6, CIFAR-10 Batch 5:  Train acc: 0.5709, Train cost: 1.3653\tVal acc: 0.5186, Val cost: 1.3750\n",
      "Epoch  7, CIFAR-10 Batch 1:  Train acc: 0.5236, Train cost: 1.3870\tVal acc: 0.5210, Val cost: 1.3628\n",
      "Epoch  7, CIFAR-10 Batch 2:  Train acc: 0.5608, Train cost: 1.2865\tVal acc: 0.5300, Val cost: 1.3664\n",
      "Epoch  7, CIFAR-10 Batch 3:  Train acc: 0.5507, Train cost: 1.2564\tVal acc: 0.5272, Val cost: 1.3648\n",
      "Epoch  7, CIFAR-10 Batch 4:  Train acc: 0.5878, Train cost: 1.1892\tVal acc: 0.5296, Val cost: 1.3514\n",
      "Epoch  7, CIFAR-10 Batch 5:  Train acc: 0.5811, Train cost: 1.3360\tVal acc: 0.5284, Val cost: 1.3497\n",
      "Epoch  8, CIFAR-10 Batch 1:  Train acc: 0.5372, Train cost: 1.3509\tVal acc: 0.5336, Val cost: 1.3380\n",
      "Epoch  8, CIFAR-10 Batch 2:  Train acc: 0.5709, Train cost: 1.2482\tVal acc: 0.5348, Val cost: 1.3374\n",
      "Epoch  8, CIFAR-10 Batch 3:  Train acc: 0.5642, Train cost: 1.2212\tVal acc: 0.5388, Val cost: 1.3391\n",
      "Epoch  8, CIFAR-10 Batch 4:  Train acc: 0.6081, Train cost: 1.1621\tVal acc: 0.5382, Val cost: 1.3288\n",
      "Epoch  8, CIFAR-10 Batch 5:  Train acc: 0.5912, Train cost: 1.3103\tVal acc: 0.5390, Val cost: 1.3284\n",
      "Epoch  9, CIFAR-10 Batch 1:  Train acc: 0.5676, Train cost: 1.3201\tVal acc: 0.5410, Val cost: 1.3182\n",
      "Epoch  9, CIFAR-10 Batch 2:  Train acc: 0.5845, Train cost: 1.2182\tVal acc: 0.5428, Val cost: 1.3171\n",
      "Epoch  9, CIFAR-10 Batch 3:  Train acc: 0.5777, Train cost: 1.1982\tVal acc: 0.5438, Val cost: 1.3228\n",
      "Epoch  9, CIFAR-10 Batch 4:  Train acc: 0.6216, Train cost: 1.1388\tVal acc: 0.5424, Val cost: 1.3115\n",
      "Epoch  9, CIFAR-10 Batch 5:  Train acc: 0.5946, Train cost: 1.2798\tVal acc: 0.5454, Val cost: 1.3112\n",
      "Epoch 10, CIFAR-10 Batch 1:  Train acc: 0.5709, Train cost: 1.2994\tVal acc: 0.5474, Val cost: 1.3039\n",
      "Epoch 10, CIFAR-10 Batch 2:  Train acc: 0.5912, Train cost: 1.1860\tVal acc: 0.5510, Val cost: 1.3026\n",
      "Epoch 10, CIFAR-10 Batch 3:  Train acc: 0.5912, Train cost: 1.1795\tVal acc: 0.5490, Val cost: 1.3052\n",
      "Epoch 10, CIFAR-10 Batch 4:  Train acc: 0.6284, Train cost: 1.1195\tVal acc: 0.5510, Val cost: 1.2961\n",
      "Epoch 10, CIFAR-10 Batch 5:  Train acc: 0.6081, Train cost: 1.2536\tVal acc: 0.5506, Val cost: 1.2970\n",
      "Epoch 11, CIFAR-10 Batch 1:  Train acc: 0.5845, Train cost: 1.2749\tVal acc: 0.5532, Val cost: 1.2891\n",
      "Epoch 11, CIFAR-10 Batch 2:  Train acc: 0.5980, Train cost: 1.1667\tVal acc: 0.5528, Val cost: 1.2938\n",
      "Epoch 11, CIFAR-10 Batch 3:  Train acc: 0.5980, Train cost: 1.1599\tVal acc: 0.5514, Val cost: 1.2998\n",
      "Epoch 11, CIFAR-10 Batch 4:  Train acc: 0.6284, Train cost: 1.1082\tVal acc: 0.5564, Val cost: 1.2850\n",
      "Epoch 11, CIFAR-10 Batch 5:  Train acc: 0.6149, Train cost: 1.2378\tVal acc: 0.5568, Val cost: 1.2851\n",
      "Epoch 12, CIFAR-10 Batch 1:  Train acc: 0.5912, Train cost: 1.2559\tVal acc: 0.5546, Val cost: 1.2787\n",
      "Epoch 12, CIFAR-10 Batch 2:  Train acc: 0.6014, Train cost: 1.1508\tVal acc: 0.5614, Val cost: 1.2812\n",
      "Epoch 12, CIFAR-10 Batch 3:  Train acc: 0.6149, Train cost: 1.1401\tVal acc: 0.5542, Val cost: 1.2878\n",
      "Epoch 12, CIFAR-10 Batch 4:  Train acc: 0.6284, Train cost: 1.0951\tVal acc: 0.5586, Val cost: 1.2752\n",
      "Epoch 12, CIFAR-10 Batch 5:  Train acc: 0.6115, Train cost: 1.2169\tVal acc: 0.5576, Val cost: 1.2765\n",
      "Epoch 13, CIFAR-10 Batch 1:  Train acc: 0.6014, Train cost: 1.2399\tVal acc: 0.5606, Val cost: 1.2704\n",
      "Epoch 13, CIFAR-10 Batch 2:  Train acc: 0.6014, Train cost: 1.1283\tVal acc: 0.5620, Val cost: 1.2712\n",
      "Epoch 13, CIFAR-10 Batch 3:  Train acc: 0.6216, Train cost: 1.1200\tVal acc: 0.5586, Val cost: 1.2757\n",
      "Epoch 13, CIFAR-10 Batch 4:  Train acc: 0.6351, Train cost: 1.0892\tVal acc: 0.5616, Val cost: 1.2668\n",
      "Epoch 13, CIFAR-10 Batch 5:  Train acc: 0.6351, Train cost: 1.1978\tVal acc: 0.5584, Val cost: 1.2675\n",
      "Epoch 14, CIFAR-10 Batch 1:  Train acc: 0.6014, Train cost: 1.2169\tVal acc: 0.5644, Val cost: 1.2616\n",
      "Epoch 14, CIFAR-10 Batch 2:  Train acc: 0.6250, Train cost: 1.1169\tVal acc: 0.5668, Val cost: 1.2665\n",
      "Epoch 14, CIFAR-10 Batch 3:  Train acc: 0.6250, Train cost: 1.1096\tVal acc: 0.5604, Val cost: 1.2732\n",
      "Epoch 14, CIFAR-10 Batch 4:  Train acc: 0.6520, Train cost: 1.0757\tVal acc: 0.5648, Val cost: 1.2584\n",
      "Epoch 14, CIFAR-10 Batch 5:  Train acc: 0.6182, Train cost: 1.1861\tVal acc: 0.5608, Val cost: 1.2590\n",
      "Epoch 15, CIFAR-10 Batch 1:  Train acc: 0.5946, Train cost: 1.2128\tVal acc: 0.5650, Val cost: 1.2563\n",
      "Epoch 15, CIFAR-10 Batch 2:  Train acc: 0.6284, Train cost: 1.1005\tVal acc: 0.5662, Val cost: 1.2592\n",
      "Epoch 15, CIFAR-10 Batch 3:  Train acc: 0.6216, Train cost: 1.1033\tVal acc: 0.5630, Val cost: 1.2696\n",
      "Epoch 15, CIFAR-10 Batch 4:  Train acc: 0.6520, Train cost: 1.0676\tVal acc: 0.5678, Val cost: 1.2530\n",
      "Epoch 15, CIFAR-10 Batch 5:  Train acc: 0.6284, Train cost: 1.1738\tVal acc: 0.5662, Val cost: 1.2531\n",
      "Epoch 16, CIFAR-10 Batch 1:  Train acc: 0.6182, Train cost: 1.1972\tVal acc: 0.5676, Val cost: 1.2473\n",
      "Epoch 16, CIFAR-10 Batch 2:  Train acc: 0.6216, Train cost: 1.0886\tVal acc: 0.5718, Val cost: 1.2515\n",
      "Epoch 16, CIFAR-10 Batch 3:  Train acc: 0.6250, Train cost: 1.0895\tVal acc: 0.5664, Val cost: 1.2605\n",
      "Epoch 16, CIFAR-10 Batch 4:  Train acc: 0.6520, Train cost: 1.0594\tVal acc: 0.5710, Val cost: 1.2465\n",
      "Epoch 16, CIFAR-10 Batch 5:  Train acc: 0.6385, Train cost: 1.1696\tVal acc: 0.5668, Val cost: 1.2476\n",
      "Epoch 17, CIFAR-10 Batch 1:  Train acc: 0.6318, Train cost: 1.1932\tVal acc: 0.5702, Val cost: 1.2441\n",
      "Epoch 17, CIFAR-10 Batch 2:  Train acc: 0.6216, Train cost: 1.0847\tVal acc: 0.5698, Val cost: 1.2508\n",
      "Epoch 17, CIFAR-10 Batch 3:  Train acc: 0.6318, Train cost: 1.0784\tVal acc: 0.5676, Val cost: 1.2560\n",
      "Epoch 17, CIFAR-10 Batch 4:  Train acc: 0.6520, Train cost: 1.0510\tVal acc: 0.5722, Val cost: 1.2428\n",
      "Epoch 17, CIFAR-10 Batch 5:  Train acc: 0.6351, Train cost: 1.1503\tVal acc: 0.5680, Val cost: 1.2435\n",
      "Epoch 18, CIFAR-10 Batch 1:  Train acc: 0.6284, Train cost: 1.1799\tVal acc: 0.5748, Val cost: 1.2388\n",
      "Epoch 18, CIFAR-10 Batch 2:  Train acc: 0.6419, Train cost: 1.0716\tVal acc: 0.5752, Val cost: 1.2410\n",
      "Epoch 18, CIFAR-10 Batch 3:  Train acc: 0.6250, Train cost: 1.0687\tVal acc: 0.5660, Val cost: 1.2561\n",
      "Epoch 18, CIFAR-10 Batch 4:  Train acc: 0.6655, Train cost: 1.0423\tVal acc: 0.5738, Val cost: 1.2382\n",
      "Epoch 18, CIFAR-10 Batch 5:  Train acc: 0.6453, Train cost: 1.1476\tVal acc: 0.5706, Val cost: 1.2372\n",
      "Epoch 19, CIFAR-10 Batch 1:  Train acc: 0.6216, Train cost: 1.1765\tVal acc: 0.5744, Val cost: 1.2346\n",
      "Epoch 19, CIFAR-10 Batch 2:  Train acc: 0.6351, Train cost: 1.0653\tVal acc: 0.5728, Val cost: 1.2397\n",
      "Epoch 19, CIFAR-10 Batch 3:  Train acc: 0.6318, Train cost: 1.0639\tVal acc: 0.5674, Val cost: 1.2484\n",
      "Epoch 19, CIFAR-10 Batch 4:  Train acc: 0.6689, Train cost: 1.0370\tVal acc: 0.5756, Val cost: 1.2346\n",
      "Epoch 19, CIFAR-10 Batch 5:  Train acc: 0.6419, Train cost: 1.1408\tVal acc: 0.5716, Val cost: 1.2353\n",
      "Epoch 20, CIFAR-10 Batch 1:  Train acc: 0.6318, Train cost: 1.1666\tVal acc: 0.5780, Val cost: 1.2313\n",
      "Epoch 20, CIFAR-10 Batch 2:  Train acc: 0.6453, Train cost: 1.0559\tVal acc: 0.5768, Val cost: 1.2374\n",
      "Epoch 20, CIFAR-10 Batch 3:  Train acc: 0.6419, Train cost: 1.0597\tVal acc: 0.5690, Val cost: 1.2481\n",
      "Epoch 20, CIFAR-10 Batch 4:  Train acc: 0.6588, Train cost: 1.0299\tVal acc: 0.5780, Val cost: 1.2314\n",
      "Epoch 20, CIFAR-10 Batch 5:  Train acc: 0.6419, Train cost: 1.1263\tVal acc: 0.5730, Val cost: 1.2312\n",
      "Epoch 21, CIFAR-10 Batch 1:  Train acc: 0.6250, Train cost: 1.1599\tVal acc: 0.5780, Val cost: 1.2284\n",
      "Epoch 21, CIFAR-10 Batch 2:  Train acc: 0.6520, Train cost: 1.0434\tVal acc: 0.5822, Val cost: 1.2286\n",
      "Epoch 21, CIFAR-10 Batch 3:  Train acc: 0.6385, Train cost: 1.0521\tVal acc: 0.5718, Val cost: 1.2383\n",
      "Epoch 21, CIFAR-10 Batch 4:  Train acc: 0.6723, Train cost: 1.0225\tVal acc: 0.5792, Val cost: 1.2256\n",
      "Epoch 21, CIFAR-10 Batch 5:  Train acc: 0.6419, Train cost: 1.1248\tVal acc: 0.5742, Val cost: 1.2289\n",
      "Epoch 22, CIFAR-10 Batch 1:  Train acc: 0.6216, Train cost: 1.1504\tVal acc: 0.5762, Val cost: 1.2262\n",
      "Epoch 22, CIFAR-10 Batch 2:  Train acc: 0.6554, Train cost: 1.0396\tVal acc: 0.5812, Val cost: 1.2256\n",
      "Epoch 22, CIFAR-10 Batch 3:  Train acc: 0.6385, Train cost: 1.0445\tVal acc: 0.5674, Val cost: 1.2347\n",
      "Epoch 22, CIFAR-10 Batch 4:  Train acc: 0.6757, Train cost: 1.0173\tVal acc: 0.5778, Val cost: 1.2230\n",
      "Epoch 22, CIFAR-10 Batch 5:  Train acc: 0.6554, Train cost: 1.1196\tVal acc: 0.5748, Val cost: 1.2240\n",
      "Epoch 23, CIFAR-10 Batch 1:  Train acc: 0.6250, Train cost: 1.1468\tVal acc: 0.5776, Val cost: 1.2225\n",
      "Epoch 23, CIFAR-10 Batch 2:  Train acc: 0.6453, Train cost: 1.0394\tVal acc: 0.5800, Val cost: 1.2252\n",
      "Epoch 23, CIFAR-10 Batch 3:  Train acc: 0.6419, Train cost: 1.0383\tVal acc: 0.5726, Val cost: 1.2305\n",
      "Epoch 23, CIFAR-10 Batch 4:  Train acc: 0.6757, Train cost: 1.0112\tVal acc: 0.5794, Val cost: 1.2206\n",
      "Epoch 23, CIFAR-10 Batch 5:  Train acc: 0.6588, Train cost: 1.1080\tVal acc: 0.5758, Val cost: 1.2205\n",
      "Epoch 24, CIFAR-10 Batch 1:  Train acc: 0.6351, Train cost: 1.1397\tVal acc: 0.5802, Val cost: 1.2180\n",
      "Epoch 24, CIFAR-10 Batch 2:  Train acc: 0.6588, Train cost: 1.0320\tVal acc: 0.5836, Val cost: 1.2196\n",
      "Epoch 24, CIFAR-10 Batch 3:  Train acc: 0.6419, Train cost: 1.0328\tVal acc: 0.5730, Val cost: 1.2284\n",
      "Epoch 24, CIFAR-10 Batch 4:  Train acc: 0.6791, Train cost: 1.0066\tVal acc: 0.5790, Val cost: 1.2194\n",
      "Epoch 24, CIFAR-10 Batch 5:  Train acc: 0.6554, Train cost: 1.1058\tVal acc: 0.5776, Val cost: 1.2200\n",
      "Epoch 25, CIFAR-10 Batch 1:  Train acc: 0.6284, Train cost: 1.1356\tVal acc: 0.5800, Val cost: 1.2174\n",
      "Epoch 25, CIFAR-10 Batch 2:  Train acc: 0.6520, Train cost: 1.0312\tVal acc: 0.5850, Val cost: 1.2202\n",
      "Epoch 25, CIFAR-10 Batch 3:  Train acc: 0.6588, Train cost: 1.0264\tVal acc: 0.5720, Val cost: 1.2296\n",
      "Epoch 25, CIFAR-10 Batch 4:  Train acc: 0.6824, Train cost: 0.9984\tVal acc: 0.5810, Val cost: 1.2155\n",
      "Epoch 25, CIFAR-10 Batch 5:  Train acc: 0.6419, Train cost: 1.1002\tVal acc: 0.5770, Val cost: 1.2171\n",
      "Epoch 26, CIFAR-10 Batch 1:  Train acc: 0.6318, Train cost: 1.1243\tVal acc: 0.5800, Val cost: 1.2141\n",
      "Epoch 26, CIFAR-10 Batch 2:  Train acc: 0.6554, Train cost: 1.0203\tVal acc: 0.5850, Val cost: 1.2161\n",
      "Epoch 26, CIFAR-10 Batch 3:  Train acc: 0.6520, Train cost: 1.0232\tVal acc: 0.5758, Val cost: 1.2234\n",
      "Epoch 26, CIFAR-10 Batch 4:  Train acc: 0.6858, Train cost: 0.9951\tVal acc: 0.5790, Val cost: 1.2153\n",
      "Epoch 26, CIFAR-10 Batch 5:  Train acc: 0.6554, Train cost: 1.0977\tVal acc: 0.5818, Val cost: 1.2145\n",
      "Epoch 27, CIFAR-10 Batch 1:  Train acc: 0.6385, Train cost: 1.1187\tVal acc: 0.5834, Val cost: 1.2102\n",
      "Epoch 27, CIFAR-10 Batch 2:  Train acc: 0.6453, Train cost: 1.0189\tVal acc: 0.5852, Val cost: 1.2140\n",
      "Epoch 27, CIFAR-10 Batch 3:  Train acc: 0.6622, Train cost: 1.0194\tVal acc: 0.5792, Val cost: 1.2163\n",
      "Epoch 27, CIFAR-10 Batch 4:  Train acc: 0.6723, Train cost: 0.9904\tVal acc: 0.5794, Val cost: 1.2111\n",
      "Epoch 27, CIFAR-10 Batch 5:  Train acc: 0.6588, Train cost: 1.0986\tVal acc: 0.5830, Val cost: 1.2114\n",
      "Epoch 28, CIFAR-10 Batch 1:  Train acc: 0.6385, Train cost: 1.1169\tVal acc: 0.5858, Val cost: 1.2095\n",
      "Epoch 28, CIFAR-10 Batch 2:  Train acc: 0.6689, Train cost: 1.0212\tVal acc: 0.5852, Val cost: 1.2122\n",
      "Epoch 28, CIFAR-10 Batch 3:  Train acc: 0.6689, Train cost: 1.0141\tVal acc: 0.5758, Val cost: 1.2202\n",
      "Epoch 28, CIFAR-10 Batch 4:  Train acc: 0.6723, Train cost: 0.9895\tVal acc: 0.5786, Val cost: 1.2084\n",
      "Epoch 28, CIFAR-10 Batch 5:  Train acc: 0.6622, Train cost: 1.0884\tVal acc: 0.5830, Val cost: 1.2093\n",
      "Epoch 29, CIFAR-10 Batch 1:  Train acc: 0.6318, Train cost: 1.1132\tVal acc: 0.5838, Val cost: 1.2083\n",
      "Epoch 29, CIFAR-10 Batch 2:  Train acc: 0.6655, Train cost: 1.0129\tVal acc: 0.5854, Val cost: 1.2078\n",
      "Epoch 29, CIFAR-10 Batch 3:  Train acc: 0.6520, Train cost: 1.0128\tVal acc: 0.5778, Val cost: 1.2202\n",
      "Epoch 29, CIFAR-10 Batch 4:  Train acc: 0.6824, Train cost: 0.9860\tVal acc: 0.5836, Val cost: 1.2074\n",
      "Epoch 29, CIFAR-10 Batch 5:  Train acc: 0.6655, Train cost: 1.0830\tVal acc: 0.5826, Val cost: 1.2084\n",
      "Epoch 30, CIFAR-10 Batch 1:  Train acc: 0.6453, Train cost: 1.1012\tVal acc: 0.5822, Val cost: 1.2054\n",
      "Epoch 30, CIFAR-10 Batch 2:  Train acc: 0.6655, Train cost: 1.0103\tVal acc: 0.5874, Val cost: 1.2107\n",
      "Epoch 30, CIFAR-10 Batch 3:  Train acc: 0.6655, Train cost: 1.0057\tVal acc: 0.5742, Val cost: 1.2198\n",
      "Epoch 30, CIFAR-10 Batch 4:  Train acc: 0.6791, Train cost: 0.9847\tVal acc: 0.5822, Val cost: 1.2020\n",
      "Epoch 30, CIFAR-10 Batch 5:  Train acc: 0.6554, Train cost: 1.0785\tVal acc: 0.5798, Val cost: 1.2052\n",
      "Epoch 31, CIFAR-10 Batch 1:  Train acc: 0.6351, Train cost: 1.1067\tVal acc: 0.5848, Val cost: 1.2040\n",
      "Epoch 31, CIFAR-10 Batch 2:  Train acc: 0.6655, Train cost: 1.0000\tVal acc: 0.5880, Val cost: 1.2061\n",
      "Epoch 31, CIFAR-10 Batch 3:  Train acc: 0.6655, Train cost: 1.0034\tVal acc: 0.5754, Val cost: 1.2173\n",
      "Epoch 31, CIFAR-10 Batch 4:  Train acc: 0.6824, Train cost: 0.9874\tVal acc: 0.5822, Val cost: 1.2022\n",
      "Epoch 31, CIFAR-10 Batch 5:  Train acc: 0.6757, Train cost: 1.0759\tVal acc: 0.5822, Val cost: 1.2063\n",
      "Epoch 32, CIFAR-10 Batch 1:  Train acc: 0.6318, Train cost: 1.1008\tVal acc: 0.5862, Val cost: 1.2018\n",
      "Epoch 32, CIFAR-10 Batch 2:  Train acc: 0.6824, Train cost: 1.0001\tVal acc: 0.5858, Val cost: 1.2030\n",
      "Epoch 32, CIFAR-10 Batch 3:  Train acc: 0.6723, Train cost: 0.9974\tVal acc: 0.5842, Val cost: 1.2105\n",
      "Epoch 32, CIFAR-10 Batch 4:  Train acc: 0.6824, Train cost: 0.9748\tVal acc: 0.5834, Val cost: 1.2014\n",
      "Epoch 32, CIFAR-10 Batch 5:  Train acc: 0.6791, Train cost: 1.0721\tVal acc: 0.5846, Val cost: 1.2029\n",
      "Epoch 33, CIFAR-10 Batch 1:  Train acc: 0.6385, Train cost: 1.1024\tVal acc: 0.5846, Val cost: 1.2012\n",
      "Epoch 33, CIFAR-10 Batch 2:  Train acc: 0.6892, Train cost: 0.9917\tVal acc: 0.5868, Val cost: 1.2007\n",
      "Epoch 33, CIFAR-10 Batch 3:  Train acc: 0.6723, Train cost: 0.9960\tVal acc: 0.5792, Val cost: 1.2091\n",
      "Epoch 33, CIFAR-10 Batch 4:  Train acc: 0.6824, Train cost: 0.9748\tVal acc: 0.5810, Val cost: 1.2006\n",
      "Epoch 33, CIFAR-10 Batch 5:  Train acc: 0.6655, Train cost: 1.0769\tVal acc: 0.5840, Val cost: 1.2011\n",
      "Epoch 34, CIFAR-10 Batch 1:  Train acc: 0.6385, Train cost: 1.0956\tVal acc: 0.5862, Val cost: 1.1981\n",
      "Epoch 34, CIFAR-10 Batch 2:  Train acc: 0.7095, Train cost: 0.9849\tVal acc: 0.5888, Val cost: 1.1987\n",
      "Epoch 34, CIFAR-10 Batch 3:  Train acc: 0.6757, Train cost: 0.9914\tVal acc: 0.5812, Val cost: 1.2094\n",
      "Epoch 34, CIFAR-10 Batch 4:  Train acc: 0.6892, Train cost: 0.9715\tVal acc: 0.5854, Val cost: 1.1966\n",
      "Epoch 34, CIFAR-10 Batch 5:  Train acc: 0.6655, Train cost: 1.0737\tVal acc: 0.5848, Val cost: 1.1989\n",
      "Epoch 35, CIFAR-10 Batch 1:  Train acc: 0.6385, Train cost: 1.0890\tVal acc: 0.5840, Val cost: 1.1965\n",
      "Epoch 35, CIFAR-10 Batch 2:  Train acc: 0.6926, Train cost: 0.9860\tVal acc: 0.5896, Val cost: 1.1989\n",
      "Epoch 35, CIFAR-10 Batch 3:  Train acc: 0.6622, Train cost: 0.9920\tVal acc: 0.5822, Val cost: 1.2063\n",
      "Epoch 35, CIFAR-10 Batch 4:  Train acc: 0.6892, Train cost: 0.9648\tVal acc: 0.5832, Val cost: 1.1971\n",
      "Epoch 35, CIFAR-10 Batch 5:  Train acc: 0.6791, Train cost: 1.0752\tVal acc: 0.5852, Val cost: 1.2003\n",
      "Epoch 36, CIFAR-10 Batch 1:  Train acc: 0.6385, Train cost: 1.0854\tVal acc: 0.5896, Val cost: 1.1935\n",
      "Epoch 36, CIFAR-10 Batch 2:  Train acc: 0.7095, Train cost: 0.9794\tVal acc: 0.5902, Val cost: 1.1964\n",
      "Epoch 36, CIFAR-10 Batch 3:  Train acc: 0.6622, Train cost: 0.9916\tVal acc: 0.5832, Val cost: 1.2054\n",
      "Epoch 36, CIFAR-10 Batch 4:  Train acc: 0.6824, Train cost: 0.9620\tVal acc: 0.5854, Val cost: 1.1937\n",
      "Epoch 36, CIFAR-10 Batch 5:  Train acc: 0.6655, Train cost: 1.0648\tVal acc: 0.5870, Val cost: 1.1967\n",
      "Epoch 37, CIFAR-10 Batch 1:  Train acc: 0.6419, Train cost: 1.0759\tVal acc: 0.5884, Val cost: 1.1925\n",
      "Epoch 37, CIFAR-10 Batch 2:  Train acc: 0.6926, Train cost: 0.9753\tVal acc: 0.5892, Val cost: 1.1923\n",
      "Epoch 37, CIFAR-10 Batch 3:  Train acc: 0.6689, Train cost: 0.9920\tVal acc: 0.5804, Val cost: 1.2088\n",
      "Epoch 37, CIFAR-10 Batch 4:  Train acc: 0.6824, Train cost: 0.9660\tVal acc: 0.5838, Val cost: 1.1942\n",
      "Epoch 37, CIFAR-10 Batch 5:  Train acc: 0.6655, Train cost: 1.0639\tVal acc: 0.5852, Val cost: 1.1963\n",
      "Epoch 38, CIFAR-10 Batch 1:  Train acc: 0.6419, Train cost: 1.0791\tVal acc: 0.5924, Val cost: 1.1922\n",
      "Epoch 38, CIFAR-10 Batch 2:  Train acc: 0.6824, Train cost: 0.9762\tVal acc: 0.5922, Val cost: 1.1925\n",
      "Epoch 38, CIFAR-10 Batch 3:  Train acc: 0.6588, Train cost: 0.9939\tVal acc: 0.5848, Val cost: 1.2012\n",
      "Epoch 38, CIFAR-10 Batch 4:  Train acc: 0.6824, Train cost: 0.9562\tVal acc: 0.5862, Val cost: 1.1908\n",
      "Epoch 38, CIFAR-10 Batch 5:  Train acc: 0.6689, Train cost: 1.0618\tVal acc: 0.5880, Val cost: 1.1943\n",
      "Epoch 39, CIFAR-10 Batch 1:  Train acc: 0.6419, Train cost: 1.0776\tVal acc: 0.5874, Val cost: 1.1909\n",
      "Epoch 39, CIFAR-10 Batch 2:  Train acc: 0.7095, Train cost: 0.9726\tVal acc: 0.5896, Val cost: 1.1917\n",
      "Epoch 39, CIFAR-10 Batch 3:  Train acc: 0.6757, Train cost: 0.9893\tVal acc: 0.5834, Val cost: 1.2014\n",
      "Epoch 39, CIFAR-10 Batch 4:  Train acc: 0.6892, Train cost: 0.9536\tVal acc: 0.5822, Val cost: 1.1898\n",
      "Epoch 39, CIFAR-10 Batch 5:  Train acc: 0.6554, Train cost: 1.0633\tVal acc: 0.5890, Val cost: 1.1925\n",
      "Epoch 40, CIFAR-10 Batch 1:  Train acc: 0.6351, Train cost: 1.0736\tVal acc: 0.5910, Val cost: 1.1877\n",
      "Epoch 40, CIFAR-10 Batch 2:  Train acc: 0.6926, Train cost: 0.9684\tVal acc: 0.5916, Val cost: 1.1901\n",
      "Epoch 40, CIFAR-10 Batch 3:  Train acc: 0.6655, Train cost: 0.9868\tVal acc: 0.5860, Val cost: 1.2005\n",
      "Epoch 40, CIFAR-10 Batch 4:  Train acc: 0.6993, Train cost: 0.9500\tVal acc: 0.5860, Val cost: 1.1893\n",
      "Epoch 40, CIFAR-10 Batch 5:  Train acc: 0.6588, Train cost: 1.0593\tVal acc: 0.5868, Val cost: 1.1900\n",
      "Epoch 41, CIFAR-10 Batch 1:  Train acc: 0.6453, Train cost: 1.0692\tVal acc: 0.5906, Val cost: 1.1878\n",
      "Epoch 41, CIFAR-10 Batch 2:  Train acc: 0.6959, Train cost: 0.9634\tVal acc: 0.5908, Val cost: 1.1870\n",
      "Epoch 41, CIFAR-10 Batch 3:  Train acc: 0.6689, Train cost: 0.9887\tVal acc: 0.5862, Val cost: 1.2010\n",
      "Epoch 41, CIFAR-10 Batch 4:  Train acc: 0.6892, Train cost: 0.9458\tVal acc: 0.5876, Val cost: 1.1869\n",
      "Epoch 41, CIFAR-10 Batch 5:  Train acc: 0.6622, Train cost: 1.0541\tVal acc: 0.5880, Val cost: 1.1892\n",
      "Epoch 42, CIFAR-10 Batch 1:  Train acc: 0.6385, Train cost: 1.0644\tVal acc: 0.5898, Val cost: 1.1861\n",
      "Epoch 42, CIFAR-10 Batch 2:  Train acc: 0.6791, Train cost: 0.9635\tVal acc: 0.5932, Val cost: 1.1858\n",
      "Epoch 42, CIFAR-10 Batch 3:  Train acc: 0.6622, Train cost: 0.9826\tVal acc: 0.5896, Val cost: 1.1936\n",
      "Epoch 42, CIFAR-10 Batch 4:  Train acc: 0.6824, Train cost: 0.9458\tVal acc: 0.5900, Val cost: 1.1836\n",
      "Epoch 42, CIFAR-10 Batch 5:  Train acc: 0.6588, Train cost: 1.0508\tVal acc: 0.5904, Val cost: 1.1878\n",
      "Epoch 43, CIFAR-10 Batch 1:  Train acc: 0.6318, Train cost: 1.0663\tVal acc: 0.5930, Val cost: 1.1833\n",
      "Epoch 43, CIFAR-10 Batch 2:  Train acc: 0.6824, Train cost: 0.9648\tVal acc: 0.5950, Val cost: 1.1864\n",
      "Epoch 43, CIFAR-10 Batch 3:  Train acc: 0.6723, Train cost: 0.9849\tVal acc: 0.5878, Val cost: 1.1999\n",
      "Epoch 43, CIFAR-10 Batch 4:  Train acc: 0.6926, Train cost: 0.9446\tVal acc: 0.5882, Val cost: 1.1844\n",
      "Epoch 43, CIFAR-10 Batch 5:  Train acc: 0.6689, Train cost: 1.0454\tVal acc: 0.5900, Val cost: 1.1845\n",
      "Epoch 44, CIFAR-10 Batch 1:  Train acc: 0.6351, Train cost: 1.0641\tVal acc: 0.5946, Val cost: 1.1820\n",
      "Epoch 44, CIFAR-10 Batch 2:  Train acc: 0.6993, Train cost: 0.9610\tVal acc: 0.5926, Val cost: 1.1836\n",
      "Epoch 44, CIFAR-10 Batch 3:  Train acc: 0.6655, Train cost: 0.9822\tVal acc: 0.5878, Val cost: 1.1926\n",
      "Epoch 44, CIFAR-10 Batch 4:  Train acc: 0.6926, Train cost: 0.9439\tVal acc: 0.5848, Val cost: 1.1844\n",
      "Epoch 44, CIFAR-10 Batch 5:  Train acc: 0.6689, Train cost: 1.0423\tVal acc: 0.5878, Val cost: 1.1855\n",
      "Epoch 45, CIFAR-10 Batch 1:  Train acc: 0.6351, Train cost: 1.0581\tVal acc: 0.5914, Val cost: 1.1807\n",
      "Epoch 45, CIFAR-10 Batch 2:  Train acc: 0.6959, Train cost: 0.9595\tVal acc: 0.5928, Val cost: 1.1822\n",
      "Epoch 45, CIFAR-10 Batch 3:  Train acc: 0.6723, Train cost: 0.9788\tVal acc: 0.5882, Val cost: 1.1936\n",
      "Epoch 45, CIFAR-10 Batch 4:  Train acc: 0.6892, Train cost: 0.9389\tVal acc: 0.5930, Val cost: 1.1804\n",
      "Epoch 45, CIFAR-10 Batch 5:  Train acc: 0.6757, Train cost: 1.0411\tVal acc: 0.5888, Val cost: 1.1831\n",
      "Epoch 46, CIFAR-10 Batch 1:  Train acc: 0.6250, Train cost: 1.0629\tVal acc: 0.5922, Val cost: 1.1802\n",
      "Epoch 46, CIFAR-10 Batch 2:  Train acc: 0.6892, Train cost: 0.9568\tVal acc: 0.5948, Val cost: 1.1799\n",
      "Epoch 46, CIFAR-10 Batch 3:  Train acc: 0.6791, Train cost: 0.9777\tVal acc: 0.5900, Val cost: 1.1905\n",
      "Epoch 46, CIFAR-10 Batch 4:  Train acc: 0.6892, Train cost: 0.9385\tVal acc: 0.5920, Val cost: 1.1790\n",
      "Epoch 46, CIFAR-10 Batch 5:  Train acc: 0.6689, Train cost: 1.0435\tVal acc: 0.5904, Val cost: 1.1807\n",
      "Epoch 47, CIFAR-10 Batch 1:  Train acc: 0.6453, Train cost: 1.0573\tVal acc: 0.5942, Val cost: 1.1792\n",
      "Epoch 47, CIFAR-10 Batch 2:  Train acc: 0.6959, Train cost: 0.9551\tVal acc: 0.5968, Val cost: 1.1782\n",
      "Epoch 47, CIFAR-10 Batch 3:  Train acc: 0.6723, Train cost: 0.9729\tVal acc: 0.5924, Val cost: 1.1864\n",
      "Epoch 47, CIFAR-10 Batch 4:  Train acc: 0.6892, Train cost: 0.9298\tVal acc: 0.5908, Val cost: 1.1785\n",
      "Epoch 47, CIFAR-10 Batch 5:  Train acc: 0.6622, Train cost: 1.0459\tVal acc: 0.5934, Val cost: 1.1798\n",
      "Epoch 48, CIFAR-10 Batch 1:  Train acc: 0.6486, Train cost: 1.0599\tVal acc: 0.5992, Val cost: 1.1763\n",
      "Epoch 48, CIFAR-10 Batch 2:  Train acc: 0.6926, Train cost: 0.9534\tVal acc: 0.5956, Val cost: 1.1791\n",
      "Epoch 48, CIFAR-10 Batch 3:  Train acc: 0.6757, Train cost: 0.9722\tVal acc: 0.5922, Val cost: 1.1881\n",
      "Epoch 48, CIFAR-10 Batch 4:  Train acc: 0.6791, Train cost: 0.9277\tVal acc: 0.5900, Val cost: 1.1754\n",
      "Epoch 48, CIFAR-10 Batch 5:  Train acc: 0.6655, Train cost: 1.0368\tVal acc: 0.5924, Val cost: 1.1793\n",
      "Epoch 49, CIFAR-10 Batch 1:  Train acc: 0.6588, Train cost: 1.0556\tVal acc: 0.5948, Val cost: 1.1765\n",
      "Epoch 49, CIFAR-10 Batch 2:  Train acc: 0.7027, Train cost: 0.9532\tVal acc: 0.5960, Val cost: 1.1765\n",
      "Epoch 49, CIFAR-10 Batch 3:  Train acc: 0.6824, Train cost: 0.9710\tVal acc: 0.5912, Val cost: 1.1869\n",
      "Epoch 49, CIFAR-10 Batch 4:  Train acc: 0.6858, Train cost: 0.9277\tVal acc: 0.5926, Val cost: 1.1750\n",
      "Epoch 49, CIFAR-10 Batch 5:  Train acc: 0.6757, Train cost: 1.0405\tVal acc: 0.5924, Val cost: 1.1778\n",
      "Epoch 50, CIFAR-10 Batch 1:  Train acc: 0.6520, Train cost: 1.0535\tVal acc: 0.5970, Val cost: 1.1754\n",
      "Epoch 50, CIFAR-10 Batch 2:  Train acc: 0.6926, Train cost: 0.9521\tVal acc: 0.5980, Val cost: 1.1742\n",
      "Epoch 50, CIFAR-10 Batch 3:  Train acc: 0.6723, Train cost: 0.9696\tVal acc: 0.5926, Val cost: 1.1848\n",
      "Epoch 50, CIFAR-10 Batch 4:  Train acc: 0.6959, Train cost: 0.9289\tVal acc: 0.5922, Val cost: 1.1751\n",
      "Epoch 50, CIFAR-10 Batch 5:  Train acc: 0.6723, Train cost: 1.0346\tVal acc: 0.5912, Val cost: 1.1778\n",
      "Epoch 51, CIFAR-10 Batch 1:  Train acc: 0.6588, Train cost: 1.0506\tVal acc: 0.5970, Val cost: 1.1739\n",
      "Epoch 51, CIFAR-10 Batch 2:  Train acc: 0.7095, Train cost: 0.9442\tVal acc: 0.5970, Val cost: 1.1786\n",
      "Epoch 51, CIFAR-10 Batch 3:  Train acc: 0.6791, Train cost: 0.9709\tVal acc: 0.5908, Val cost: 1.1883\n",
      "Epoch 51, CIFAR-10 Batch 4:  Train acc: 0.6959, Train cost: 0.9326\tVal acc: 0.5934, Val cost: 1.1746\n",
      "Epoch 51, CIFAR-10 Batch 5:  Train acc: 0.6723, Train cost: 1.0368\tVal acc: 0.5910, Val cost: 1.1762\n",
      "Epoch 52, CIFAR-10 Batch 1:  Train acc: 0.6486, Train cost: 1.0482\tVal acc: 0.5984, Val cost: 1.1741\n",
      "Epoch 52, CIFAR-10 Batch 2:  Train acc: 0.6959, Train cost: 0.9539\tVal acc: 0.6006, Val cost: 1.1740\n",
      "Epoch 52, CIFAR-10 Batch 3:  Train acc: 0.6824, Train cost: 0.9624\tVal acc: 0.5934, Val cost: 1.1846\n",
      "Epoch 52, CIFAR-10 Batch 4:  Train acc: 0.6926, Train cost: 0.9271\tVal acc: 0.5954, Val cost: 1.1728\n",
      "Epoch 52, CIFAR-10 Batch 5:  Train acc: 0.6757, Train cost: 1.0313\tVal acc: 0.5922, Val cost: 1.1733\n",
      "Epoch 53, CIFAR-10 Batch 1:  Train acc: 0.6419, Train cost: 1.0476\tVal acc: 0.5976, Val cost: 1.1703\n",
      "Epoch 53, CIFAR-10 Batch 2:  Train acc: 0.7128, Train cost: 0.9516\tVal acc: 0.6008, Val cost: 1.1746\n",
      "Epoch 53, CIFAR-10 Batch 3:  Train acc: 0.6791, Train cost: 0.9660\tVal acc: 0.5908, Val cost: 1.1887\n",
      "Epoch 53, CIFAR-10 Batch 4:  Train acc: 0.7027, Train cost: 0.9238\tVal acc: 0.5914, Val cost: 1.1732\n",
      "Epoch 53, CIFAR-10 Batch 5:  Train acc: 0.6723, Train cost: 1.0299\tVal acc: 0.5928, Val cost: 1.1729\n",
      "Epoch 54, CIFAR-10 Batch 1:  Train acc: 0.6520, Train cost: 1.0504\tVal acc: 0.5998, Val cost: 1.1706\n",
      "Epoch 54, CIFAR-10 Batch 2:  Train acc: 0.7095, Train cost: 0.9470\tVal acc: 0.6016, Val cost: 1.1712\n",
      "Epoch 54, CIFAR-10 Batch 3:  Train acc: 0.6824, Train cost: 0.9641\tVal acc: 0.5936, Val cost: 1.1844\n",
      "Epoch 54, CIFAR-10 Batch 4:  Train acc: 0.6993, Train cost: 0.9215\tVal acc: 0.5966, Val cost: 1.1707\n",
      "Epoch 54, CIFAR-10 Batch 5:  Train acc: 0.6791, Train cost: 1.0262\tVal acc: 0.5934, Val cost: 1.1739\n",
      "Epoch 55, CIFAR-10 Batch 1:  Train acc: 0.6419, Train cost: 1.0471\tVal acc: 0.5988, Val cost: 1.1706\n",
      "Epoch 55, CIFAR-10 Batch 2:  Train acc: 0.6959, Train cost: 0.9461\tVal acc: 0.5998, Val cost: 1.1718\n",
      "Epoch 55, CIFAR-10 Batch 3:  Train acc: 0.6926, Train cost: 0.9594\tVal acc: 0.5910, Val cost: 1.1806\n",
      "Epoch 55, CIFAR-10 Batch 4:  Train acc: 0.6993, Train cost: 0.9221\tVal acc: 0.5958, Val cost: 1.1693\n",
      "Epoch 55, CIFAR-10 Batch 5:  Train acc: 0.6622, Train cost: 1.0294\tVal acc: 0.5938, Val cost: 1.1712\n"
     ]
    }
   ],
   "source": [
    "\"\"\"\n",
    "DON'T MODIFY ANYTHING IN THIS CELL\n",
    "\"\"\"\n",
    "save_model_path = './image_classification'\n",
    "\n",
    "print('Training...')\n",
    "with tf.Session() as sess:\n",
    "    # Initializing the variables\n",
    "    sess.run(tf.global_variables_initializer())\n",
    "    \n",
    "    # Training cycle\n",
    "    for epoch in range(epochs):\n",
    "        # Loop over all batches\n",
    "        n_batches = 5\n",
    "        for batch_i in range(1, n_batches + 1):\n",
    "            for batch_features, batch_labels in helper.load_preprocess_training_batch(batch_i, batch_size):\n",
    "                train_neural_network(sess, optimizer, keep_probability, batch_features, batch_labels)\n",
    "            print('Epoch {:>2}, CIFAR-10 Batch {}:  '.format(epoch + 1, batch_i), end='')\n",
    "            print_stats(sess, batch_features, batch_labels, cost, accuracy)\n",
    "            \n",
    "    # Save Model\n",
    "    saver = tf.train.Saver()\n",
    "    save_path = saver.save(sess, save_model_path)"
   ]
  },
  {
   "cell_type": "markdown",
   "metadata": {
    "deletable": true,
    "editable": true
   },
   "source": [
    "# Checkpoint\n",
    "The model has been saved to disk.\n",
    "## Test Model\n",
    "Test your model against the test dataset.  This will be your final accuracy. You should have an accuracy greater than 50%. If you don't, keep tweaking the model architecture and parameters."
   ]
  },
  {
   "cell_type": "code",
   "execution_count": 24,
   "metadata": {
    "collapsed": false,
    "deletable": true,
    "editable": true
   },
   "outputs": [
    {
     "name": "stdout",
     "output_type": "stream",
     "text": [
      "Testing Accuracy: 0.5932100206613541\n",
      "\n"
     ]
    },
    {
     "data": {
      "image/png": "[encoded data removed]",
      "text/plain": [
       "<matplotlib.figure.Figure at 0x7f32a2ea1390>"
      ]
     },
     "metadata": {
      "image/png": {
       "height": 319,
       "width": 355
      }
     },
     "output_type": "display_data"
    }
   ],
   "source": [
    "\"\"\"\n",
    "DON'T MODIFY ANYTHING IN THIS CELL\n",
    "\"\"\"\n",
    "%matplotlib inline\n",
    "%config InlineBackend.figure_format = 'retina'\n",
    "\n",
    "import tensorflow as tf\n",
    "import pickle\n",
    "import helper\n",
    "import random\n",
    "\n",
    "# Set batch size if not already set\n",
    "try:\n",
    "    if batch_size:\n",
    "        pass\n",
    "except NameError:\n",
    "    batch_size = 64\n",
    "\n",
    "save_model_path = './image_classification'\n",
    "n_samples = 4\n",
    "top_n_predictions = 3\n",
    "\n",
    "def test_model():\n",
    "    \"\"\"\n",
    "    Test the saved model against the test dataset\n",
    "    \"\"\"\n",
    "\n",
    "    test_features, test_labels = pickle.load(open('preprocess_training.p', mode='rb'))\n",
    "    loaded_graph = tf.Graph()\n",
    "\n",
    "    with tf.Session(graph=loaded_graph) as sess:\n",
    "        # Load model\n",
    "        loader = tf.train.import_meta_graph(save_model_path + '.meta')\n",
    "        loader.restore(sess, save_model_path)\n",
    "\n",
    "        # Get Tensors from loaded model\n",
    "        loaded_x = loaded_graph.get_tensor_by_name('x:0')\n",
    "        loaded_y = loaded_graph.get_tensor_by_name('y:0')\n",
    "        loaded_keep_prob = loaded_graph.get_tensor_by_name('keep_prob:0')\n",
    "        loaded_logits = loaded_graph.get_tensor_by_name('logits:0')\n",
    "        loaded_acc = loaded_graph.get_tensor_by_name('accuracy:0')\n",
    "        \n",
    "        # Get accuracy in batches for memory limitations\n",
    "        test_batch_acc_total = 0\n",
    "        test_batch_count = 0\n",
    "        \n",
    "        for train_feature_batch, train_label_batch in helper.batch_features_labels(test_features, test_labels, batch_size):\n",
    "            test_batch_acc_total += sess.run(\n",
    "                loaded_acc,\n",
    "                feed_dict={loaded_x: train_feature_batch, loaded_y: train_label_batch, loaded_keep_prob: 1.0})\n",
    "            test_batch_count += 1\n",
    "\n",
    "        print('Testing Accuracy: {}\\n'.format(test_batch_acc_total/test_batch_count))\n",
    "\n",
    "        # Print Random Samples\n",
    "        random_test_features, random_test_labels = tuple(zip(*random.sample(list(zip(test_features, test_labels)), n_samples)))\n",
    "        random_test_predictions = sess.run(\n",
    "            tf.nn.top_k(tf.nn.softmax(loaded_logits), top_n_predictions),\n",
    "            feed_dict={loaded_x: random_test_features, loaded_y: random_test_labels, loaded_keep_prob: 1.0})\n",
    "        helper.display_image_predictions(random_test_features, random_test_labels, random_test_predictions)\n",
    "\n",
    "\n",
    "test_model()"
   ]
  },
  {
   "cell_type": "markdown",
   "metadata": {
    "deletable": true,
    "editable": true
   },
   "source": [
    "## Why 50-70% Accuracy?\n",
    "You might be wondering why you can't get an accuracy any higher. First things first, 50% isn't bad for a simple CNN.  Pure guessing would get you 10% accuracy. However, you might notice people are getting scores [well above 70%](http://rodrigob.github.io/are_we_there_yet/build/classification_datasets_results.html#43494641522d3130).  That's because we haven't taught you all there is to know about neural networks. We still need to cover a few more techniques.\n",
    "## Submitting This Project\n",
    "When submitting this project, make sure to run all the cells before saving the notebook.  Save the notebook file as \"dlnd_image_classification.ipynb\" and save it as a HTML file under \"File\" -> \"Download as\".  Include the \"helper.py\" and \"problem_unittests.py\" files in your submission."
   ]
  }
 ],
 "metadata": {
  "kernelspec": {
   "display_name": "Python 3",
   "language": "python",
   "name": "python3"
  },
  "language_info": {
   "codemirror_mode": {
    "name": "ipython",
    "version": 3
   },
   "file_extension": ".py",
   "mimetype": "text/x-python",
   "name": "python",
   "nbconvert_exporter": "python",
   "pygments_lexer": "ipython3",
   "version": "3.5.3"
  }
 },
 "nbformat": 4,
 "nbformat_minor": 0
}
